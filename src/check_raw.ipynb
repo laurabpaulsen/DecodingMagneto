{
 "cells": [
  {
   "attachments": {},
   "cell_type": "markdown",
   "metadata": {},
   "source": [
    "# Checking the raw data\n",
    "This notebook is used to plot the raw data to 1) identify bad channels and 2) mark the beginning and the end of the experiment.\n",
    "\n",
    "Remember to add the channels, tmin and tmax to event_session_info.py. Remember to run event_session_info.py after changing the values."
   ]
  },
  {
   "cell_type": "code",
   "execution_count": null,
   "metadata": {},
   "outputs": [],
   "source": [
    "import mne"
   ]
  },
  {
   "cell_type": "code",
   "execution_count": null,
   "metadata": {},
   "outputs": [],
   "source": [
    "session = 'visual_03'\n",
    "raw = mne.io.read_raw_fif(f'../data/{session}/raw.fif', preload=True)\n",
    "raw.plot()"
   ]
  }
 ],
 "metadata": {
  "language_info": {
   "name": "python"
  },
  "orig_nbformat": 4
 },
 "nbformat": 4,
 "nbformat_minor": 2
}
