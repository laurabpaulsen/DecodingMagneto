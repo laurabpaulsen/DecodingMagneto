{
 "cells": [
  {
   "attachments": {},
   "cell_type": "markdown",
   "metadata": {},
   "source": [
    "# Checking the raw data\n",
    "This notebook is used to plot the raw data to 1) identify bad channels and 2) mark the beginning and the end of the experiment.\n",
    "\n",
    "Remember to add the channels, tmin and tmax to event_session_info.py. Remember to run event_session_info.py after changing the values."
   ]
  },
  {
   "cell_type": "code",
   "execution_count": null,
   "metadata": {},
   "outputs": [],
   "source": [
    "import mne"
   ]
  },
  {
   "cell_type": "code",
   "execution_count": null,
   "metadata": {},
   "outputs": [],
   "source": [
    "session = 'visual_03'\n",
    "raw = mne.io.read_raw_fif(f'/media/raw_data/franscescas_data/raw_data/{session}.fif', preload=True)\n",
    "raw.plot()"
   ]
  }
 ],
 "metadata": {
  "kernelspec": {
   "display_name": "venv",
   "language": "python",
   "name": "python3"
  },
  "language_info": {
   "codemirror_mode": {
    "name": "ipython",
    "version": 3
   },
   "file_extension": ".py",
   "mimetype": "text/x-python",
   "name": "python",
   "nbconvert_exporter": "python",
   "pygments_lexer": "ipython3",
   "version": "3.9.7"
  },
  "orig_nbformat": 4
 },
 "nbformat": 4,
 "nbformat_minor": 2
}
